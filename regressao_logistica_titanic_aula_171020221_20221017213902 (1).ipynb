{
  "nbformat": 4,
  "nbformat_minor": 0,
  "metadata": {
    "colab": {
      "provenance": [],
      "collapsed_sections": []
    },
    "kernelspec": {
      "name": "python3",
      "display_name": "Python 3"
    },
    "language_info": {
      "name": "python"
    }
  },
  "cells": [
    {
      "cell_type": "markdown",
      "source": [
        "A tragédia do Titanic, em 1912, é um dos desastres marítimos mais conhecidos da história. Eternizado no cinema em 1997, o navio construído em Belfast (Irlanda) naufragou quatro dias após sua viagem inaugural, que tinha como destino a cidade de Nova Iorque. Quando construído, o navio prometia ser o mais luxuoso e seguro de sua época. Entretanto, estudos posteriores indicaram falhas no sistema de segurança e evacuação. A estimativa é de 1514 mortes entre os 2224 passageiros, ou seja, aproximadamente 68% da tripulação."
      ],
      "metadata": {
        "id": "WFdwvljMPhGN"
      }
    },
    {
      "cell_type": "markdown",
      "source": [
        "* Survived (Sobreviveu): 0 = Não, 1 = Sim\n",
        "* Pclass (Classe): Classe de ingresso 1 = 1º, 2 = 2º, 3 = 3º\n",
        "* Sex (Sexo): Sexo do passageiro\n",
        "* Age (Idade): Idade em anos\n",
        "* Sibsp: Quantidade de irmãos / cônjuges a bordo do Titanic\n",
        "* Parch: Quantidade de pais / crianças a bordo do Titanic\n",
        "* Ticket (Bilhete): Número do bilhete de embarque\n",
        "* Fare (Tarifa): Tarifa paga pelo Passageiro\n",
        "* Cabin (Cabine): Número de cabine\n",
        "* Embarked (Embarque): Porto de Embarque (C = Cherbourg, Q=Queenstown, S = Southampton)"
      ],
      "metadata": {
        "id": "IJT5k8SXti-e"
      }
    },
    {
      "cell_type": "code",
      "source": [
        "#Importar bibliotecas\n",
        "import pandas as pd\n",
        "import numpy as np \n",
        "import matplotlib.pyplot as plt\n",
        "import seaborn as sns\n",
        "import io"
      ],
      "metadata": {
        "id": "anBoKy2_Qfi7"
      },
      "execution_count": 1,
      "outputs": []
    },
    {
      "cell_type": "code",
      "execution_count": 2,
      "metadata": {
        "id": "ty3MVMA5jAPo"
      },
      "outputs": [],
      "source": [
        "#importar csv titanic5 para dataframe\n",
        "df = pd.read_csv(\"/content/drive/MyDrive/datasets/titanic5.csv\", sep=',', na_values=\"?\")"
      ]
    },
    {
      "cell_type": "code",
      "source": [
        "#head\n",
        "df.head()"
      ],
      "metadata": {
        "id": "VJpLxX8xkEt3",
        "colab": {
          "base_uri": "https://localhost:8080/",
          "height": 319
        },
        "outputId": "90a95f60-e124-4768-84c1-94d07575e681"
      },
      "execution_count": 3,
      "outputs": [
        {
          "output_type": "execute_result",
          "data": {
            "text/plain": [
              "   pclass  survived                                             name     sex  \\\n",
              "0       1         1                    Allen, Miss. Elisabeth Walton  female   \n",
              "1       1         1                   Allison, Master. Hudson Trevor    male   \n",
              "2       1         0                     Allison, Miss. Helen Loraine  female   \n",
              "3       1         0             Allison, Mr. Hudson Joshua Creighton    male   \n",
              "4       1         0  Allison, Mrs. Hudson J C (Bessie Waldo Daniels)  female   \n",
              "\n",
              "     age  sibsp  parch  ticket      fare    cabin embarked boat   body  \\\n",
              "0  29.00      0      0   24160  211.3375       B5        S    2    NaN   \n",
              "1   0.92      1      2  113781  151.5500  C22 C26        S   11    NaN   \n",
              "2   2.00      1      2  113781  151.5500  C22 C26        S  NaN    NaN   \n",
              "3  30.00      1      2  113781  151.5500  C22 C26        S  NaN  135.0   \n",
              "4  25.00      1      2  113781  151.5500  C22 C26        S  NaN    NaN   \n",
              "\n",
              "                         home.dest  \n",
              "0                     St Louis, MO  \n",
              "1  Montreal, PQ / Chesterville, ON  \n",
              "2  Montreal, PQ / Chesterville, ON  \n",
              "3  Montreal, PQ / Chesterville, ON  \n",
              "4  Montreal, PQ / Chesterville, ON  "
            ],
            "text/html": [
              "\n",
              "  <div id=\"df-9eec964c-fbd3-4eea-8066-8d4f39795d99\">\n",
              "    <div class=\"colab-df-container\">\n",
              "      <div>\n",
              "<style scoped>\n",
              "    .dataframe tbody tr th:only-of-type {\n",
              "        vertical-align: middle;\n",
              "    }\n",
              "\n",
              "    .dataframe tbody tr th {\n",
              "        vertical-align: top;\n",
              "    }\n",
              "\n",
              "    .dataframe thead th {\n",
              "        text-align: right;\n",
              "    }\n",
              "</style>\n",
              "<table border=\"1\" class=\"dataframe\">\n",
              "  <thead>\n",
              "    <tr style=\"text-align: right;\">\n",
              "      <th></th>\n",
              "      <th>pclass</th>\n",
              "      <th>survived</th>\n",
              "      <th>name</th>\n",
              "      <th>sex</th>\n",
              "      <th>age</th>\n",
              "      <th>sibsp</th>\n",
              "      <th>parch</th>\n",
              "      <th>ticket</th>\n",
              "      <th>fare</th>\n",
              "      <th>cabin</th>\n",
              "      <th>embarked</th>\n",
              "      <th>boat</th>\n",
              "      <th>body</th>\n",
              "      <th>home.dest</th>\n",
              "    </tr>\n",
              "  </thead>\n",
              "  <tbody>\n",
              "    <tr>\n",
              "      <th>0</th>\n",
              "      <td>1</td>\n",
              "      <td>1</td>\n",
              "      <td>Allen, Miss. Elisabeth Walton</td>\n",
              "      <td>female</td>\n",
              "      <td>29.00</td>\n",
              "      <td>0</td>\n",
              "      <td>0</td>\n",
              "      <td>24160</td>\n",
              "      <td>211.3375</td>\n",
              "      <td>B5</td>\n",
              "      <td>S</td>\n",
              "      <td>2</td>\n",
              "      <td>NaN</td>\n",
              "      <td>St Louis, MO</td>\n",
              "    </tr>\n",
              "    <tr>\n",
              "      <th>1</th>\n",
              "      <td>1</td>\n",
              "      <td>1</td>\n",
              "      <td>Allison, Master. Hudson Trevor</td>\n",
              "      <td>male</td>\n",
              "      <td>0.92</td>\n",
              "      <td>1</td>\n",
              "      <td>2</td>\n",
              "      <td>113781</td>\n",
              "      <td>151.5500</td>\n",
              "      <td>C22 C26</td>\n",
              "      <td>S</td>\n",
              "      <td>11</td>\n",
              "      <td>NaN</td>\n",
              "      <td>Montreal, PQ / Chesterville, ON</td>\n",
              "    </tr>\n",
              "    <tr>\n",
              "      <th>2</th>\n",
              "      <td>1</td>\n",
              "      <td>0</td>\n",
              "      <td>Allison, Miss. Helen Loraine</td>\n",
              "      <td>female</td>\n",
              "      <td>2.00</td>\n",
              "      <td>1</td>\n",
              "      <td>2</td>\n",
              "      <td>113781</td>\n",
              "      <td>151.5500</td>\n",
              "      <td>C22 C26</td>\n",
              "      <td>S</td>\n",
              "      <td>NaN</td>\n",
              "      <td>NaN</td>\n",
              "      <td>Montreal, PQ / Chesterville, ON</td>\n",
              "    </tr>\n",
              "    <tr>\n",
              "      <th>3</th>\n",
              "      <td>1</td>\n",
              "      <td>0</td>\n",
              "      <td>Allison, Mr. Hudson Joshua Creighton</td>\n",
              "      <td>male</td>\n",
              "      <td>30.00</td>\n",
              "      <td>1</td>\n",
              "      <td>2</td>\n",
              "      <td>113781</td>\n",
              "      <td>151.5500</td>\n",
              "      <td>C22 C26</td>\n",
              "      <td>S</td>\n",
              "      <td>NaN</td>\n",
              "      <td>135.0</td>\n",
              "      <td>Montreal, PQ / Chesterville, ON</td>\n",
              "    </tr>\n",
              "    <tr>\n",
              "      <th>4</th>\n",
              "      <td>1</td>\n",
              "      <td>0</td>\n",
              "      <td>Allison, Mrs. Hudson J C (Bessie Waldo Daniels)</td>\n",
              "      <td>female</td>\n",
              "      <td>25.00</td>\n",
              "      <td>1</td>\n",
              "      <td>2</td>\n",
              "      <td>113781</td>\n",
              "      <td>151.5500</td>\n",
              "      <td>C22 C26</td>\n",
              "      <td>S</td>\n",
              "      <td>NaN</td>\n",
              "      <td>NaN</td>\n",
              "      <td>Montreal, PQ / Chesterville, ON</td>\n",
              "    </tr>\n",
              "  </tbody>\n",
              "</table>\n",
              "</div>\n",
              "      <button class=\"colab-df-convert\" onclick=\"convertToInteractive('df-9eec964c-fbd3-4eea-8066-8d4f39795d99')\"\n",
              "              title=\"Convert this dataframe to an interactive table.\"\n",
              "              style=\"display:none;\">\n",
              "        \n",
              "  <svg xmlns=\"http://www.w3.org/2000/svg\" height=\"24px\"viewBox=\"0 0 24 24\"\n",
              "       width=\"24px\">\n",
              "    <path d=\"M0 0h24v24H0V0z\" fill=\"none\"/>\n",
              "    <path d=\"M18.56 5.44l.94 2.06.94-2.06 2.06-.94-2.06-.94-.94-2.06-.94 2.06-2.06.94zm-11 1L8.5 8.5l.94-2.06 2.06-.94-2.06-.94L8.5 2.5l-.94 2.06-2.06.94zm10 10l.94 2.06.94-2.06 2.06-.94-2.06-.94-.94-2.06-.94 2.06-2.06.94z\"/><path d=\"M17.41 7.96l-1.37-1.37c-.4-.4-.92-.59-1.43-.59-.52 0-1.04.2-1.43.59L10.3 9.45l-7.72 7.72c-.78.78-.78 2.05 0 2.83L4 21.41c.39.39.9.59 1.41.59.51 0 1.02-.2 1.41-.59l7.78-7.78 2.81-2.81c.8-.78.8-2.07 0-2.86zM5.41 20L4 18.59l7.72-7.72 1.47 1.35L5.41 20z\"/>\n",
              "  </svg>\n",
              "      </button>\n",
              "      \n",
              "  <style>\n",
              "    .colab-df-container {\n",
              "      display:flex;\n",
              "      flex-wrap:wrap;\n",
              "      gap: 12px;\n",
              "    }\n",
              "\n",
              "    .colab-df-convert {\n",
              "      background-color: #E8F0FE;\n",
              "      border: none;\n",
              "      border-radius: 50%;\n",
              "      cursor: pointer;\n",
              "      display: none;\n",
              "      fill: #1967D2;\n",
              "      height: 32px;\n",
              "      padding: 0 0 0 0;\n",
              "      width: 32px;\n",
              "    }\n",
              "\n",
              "    .colab-df-convert:hover {\n",
              "      background-color: #E2EBFA;\n",
              "      box-shadow: 0px 1px 2px rgba(60, 64, 67, 0.3), 0px 1px 3px 1px rgba(60, 64, 67, 0.15);\n",
              "      fill: #174EA6;\n",
              "    }\n",
              "\n",
              "    [theme=dark] .colab-df-convert {\n",
              "      background-color: #3B4455;\n",
              "      fill: #D2E3FC;\n",
              "    }\n",
              "\n",
              "    [theme=dark] .colab-df-convert:hover {\n",
              "      background-color: #434B5C;\n",
              "      box-shadow: 0px 1px 3px 1px rgba(0, 0, 0, 0.15);\n",
              "      filter: drop-shadow(0px 1px 2px rgba(0, 0, 0, 0.3));\n",
              "      fill: #FFFFFF;\n",
              "    }\n",
              "  </style>\n",
              "\n",
              "      <script>\n",
              "        const buttonEl =\n",
              "          document.querySelector('#df-9eec964c-fbd3-4eea-8066-8d4f39795d99 button.colab-df-convert');\n",
              "        buttonEl.style.display =\n",
              "          google.colab.kernel.accessAllowed ? 'block' : 'none';\n",
              "\n",
              "        async function convertToInteractive(key) {\n",
              "          const element = document.querySelector('#df-9eec964c-fbd3-4eea-8066-8d4f39795d99');\n",
              "          const dataTable =\n",
              "            await google.colab.kernel.invokeFunction('convertToInteractive',\n",
              "                                                     [key], {});\n",
              "          if (!dataTable) return;\n",
              "\n",
              "          const docLinkHtml = 'Like what you see? Visit the ' +\n",
              "            '<a target=\"_blank\" href=https://colab.research.google.com/notebooks/data_table.ipynb>data table notebook</a>'\n",
              "            + ' to learn more about interactive tables.';\n",
              "          element.innerHTML = '';\n",
              "          dataTable['output_type'] = 'display_data';\n",
              "          await google.colab.output.renderOutput(dataTable, element);\n",
              "          const docLink = document.createElement('div');\n",
              "          docLink.innerHTML = docLinkHtml;\n",
              "          element.appendChild(docLink);\n",
              "        }\n",
              "      </script>\n",
              "    </div>\n",
              "  </div>\n",
              "  "
            ]
          },
          "metadata": {},
          "execution_count": 3
        }
      ]
    },
    {
      "cell_type": "code",
      "source": [
        "#apagar as colunas: ['name','ticket','sibsp','parch','fare','cabin','embarked','boat','body','home.dest']\n",
        "df = df.drop(['name','ticket','sibsp','parch','fare','cabin','embarked','boat','body','home.dest'], axis=1)\n"
      ],
      "metadata": {
        "id": "GniNCT-5TkiM"
      },
      "execution_count": 4,
      "outputs": []
    },
    {
      "cell_type": "code",
      "source": [
        "#head\n",
        "df.head()"
      ],
      "metadata": {
        "id": "pTydxY5UUwVN",
        "colab": {
          "base_uri": "https://localhost:8080/",
          "height": 206
        },
        "outputId": "a91db779-e65e-40c8-804d-4940b1d45665"
      },
      "execution_count": 5,
      "outputs": [
        {
          "output_type": "execute_result",
          "data": {
            "text/plain": [
              "   pclass  survived     sex    age\n",
              "0       1         1  female  29.00\n",
              "1       1         1    male   0.92\n",
              "2       1         0  female   2.00\n",
              "3       1         0    male  30.00\n",
              "4       1         0  female  25.00"
            ],
            "text/html": [
              "\n",
              "  <div id=\"df-3feaf4fe-a7a0-487a-9a84-ed7cba542be0\">\n",
              "    <div class=\"colab-df-container\">\n",
              "      <div>\n",
              "<style scoped>\n",
              "    .dataframe tbody tr th:only-of-type {\n",
              "        vertical-align: middle;\n",
              "    }\n",
              "\n",
              "    .dataframe tbody tr th {\n",
              "        vertical-align: top;\n",
              "    }\n",
              "\n",
              "    .dataframe thead th {\n",
              "        text-align: right;\n",
              "    }\n",
              "</style>\n",
              "<table border=\"1\" class=\"dataframe\">\n",
              "  <thead>\n",
              "    <tr style=\"text-align: right;\">\n",
              "      <th></th>\n",
              "      <th>pclass</th>\n",
              "      <th>survived</th>\n",
              "      <th>sex</th>\n",
              "      <th>age</th>\n",
              "    </tr>\n",
              "  </thead>\n",
              "  <tbody>\n",
              "    <tr>\n",
              "      <th>0</th>\n",
              "      <td>1</td>\n",
              "      <td>1</td>\n",
              "      <td>female</td>\n",
              "      <td>29.00</td>\n",
              "    </tr>\n",
              "    <tr>\n",
              "      <th>1</th>\n",
              "      <td>1</td>\n",
              "      <td>1</td>\n",
              "      <td>male</td>\n",
              "      <td>0.92</td>\n",
              "    </tr>\n",
              "    <tr>\n",
              "      <th>2</th>\n",
              "      <td>1</td>\n",
              "      <td>0</td>\n",
              "      <td>female</td>\n",
              "      <td>2.00</td>\n",
              "    </tr>\n",
              "    <tr>\n",
              "      <th>3</th>\n",
              "      <td>1</td>\n",
              "      <td>0</td>\n",
              "      <td>male</td>\n",
              "      <td>30.00</td>\n",
              "    </tr>\n",
              "    <tr>\n",
              "      <th>4</th>\n",
              "      <td>1</td>\n",
              "      <td>0</td>\n",
              "      <td>female</td>\n",
              "      <td>25.00</td>\n",
              "    </tr>\n",
              "  </tbody>\n",
              "</table>\n",
              "</div>\n",
              "      <button class=\"colab-df-convert\" onclick=\"convertToInteractive('df-3feaf4fe-a7a0-487a-9a84-ed7cba542be0')\"\n",
              "              title=\"Convert this dataframe to an interactive table.\"\n",
              "              style=\"display:none;\">\n",
              "        \n",
              "  <svg xmlns=\"http://www.w3.org/2000/svg\" height=\"24px\"viewBox=\"0 0 24 24\"\n",
              "       width=\"24px\">\n",
              "    <path d=\"M0 0h24v24H0V0z\" fill=\"none\"/>\n",
              "    <path d=\"M18.56 5.44l.94 2.06.94-2.06 2.06-.94-2.06-.94-.94-2.06-.94 2.06-2.06.94zm-11 1L8.5 8.5l.94-2.06 2.06-.94-2.06-.94L8.5 2.5l-.94 2.06-2.06.94zm10 10l.94 2.06.94-2.06 2.06-.94-2.06-.94-.94-2.06-.94 2.06-2.06.94z\"/><path d=\"M17.41 7.96l-1.37-1.37c-.4-.4-.92-.59-1.43-.59-.52 0-1.04.2-1.43.59L10.3 9.45l-7.72 7.72c-.78.78-.78 2.05 0 2.83L4 21.41c.39.39.9.59 1.41.59.51 0 1.02-.2 1.41-.59l7.78-7.78 2.81-2.81c.8-.78.8-2.07 0-2.86zM5.41 20L4 18.59l7.72-7.72 1.47 1.35L5.41 20z\"/>\n",
              "  </svg>\n",
              "      </button>\n",
              "      \n",
              "  <style>\n",
              "    .colab-df-container {\n",
              "      display:flex;\n",
              "      flex-wrap:wrap;\n",
              "      gap: 12px;\n",
              "    }\n",
              "\n",
              "    .colab-df-convert {\n",
              "      background-color: #E8F0FE;\n",
              "      border: none;\n",
              "      border-radius: 50%;\n",
              "      cursor: pointer;\n",
              "      display: none;\n",
              "      fill: #1967D2;\n",
              "      height: 32px;\n",
              "      padding: 0 0 0 0;\n",
              "      width: 32px;\n",
              "    }\n",
              "\n",
              "    .colab-df-convert:hover {\n",
              "      background-color: #E2EBFA;\n",
              "      box-shadow: 0px 1px 2px rgba(60, 64, 67, 0.3), 0px 1px 3px 1px rgba(60, 64, 67, 0.15);\n",
              "      fill: #174EA6;\n",
              "    }\n",
              "\n",
              "    [theme=dark] .colab-df-convert {\n",
              "      background-color: #3B4455;\n",
              "      fill: #D2E3FC;\n",
              "    }\n",
              "\n",
              "    [theme=dark] .colab-df-convert:hover {\n",
              "      background-color: #434B5C;\n",
              "      box-shadow: 0px 1px 3px 1px rgba(0, 0, 0, 0.15);\n",
              "      filter: drop-shadow(0px 1px 2px rgba(0, 0, 0, 0.3));\n",
              "      fill: #FFFFFF;\n",
              "    }\n",
              "  </style>\n",
              "\n",
              "      <script>\n",
              "        const buttonEl =\n",
              "          document.querySelector('#df-3feaf4fe-a7a0-487a-9a84-ed7cba542be0 button.colab-df-convert');\n",
              "        buttonEl.style.display =\n",
              "          google.colab.kernel.accessAllowed ? 'block' : 'none';\n",
              "\n",
              "        async function convertToInteractive(key) {\n",
              "          const element = document.querySelector('#df-3feaf4fe-a7a0-487a-9a84-ed7cba542be0');\n",
              "          const dataTable =\n",
              "            await google.colab.kernel.invokeFunction('convertToInteractive',\n",
              "                                                     [key], {});\n",
              "          if (!dataTable) return;\n",
              "\n",
              "          const docLinkHtml = 'Like what you see? Visit the ' +\n",
              "            '<a target=\"_blank\" href=https://colab.research.google.com/notebooks/data_table.ipynb>data table notebook</a>'\n",
              "            + ' to learn more about interactive tables.';\n",
              "          element.innerHTML = '';\n",
              "          dataTable['output_type'] = 'display_data';\n",
              "          await google.colab.output.renderOutput(dataTable, element);\n",
              "          const docLink = document.createElement('div');\n",
              "          docLink.innerHTML = docLinkHtml;\n",
              "          element.appendChild(docLink);\n",
              "        }\n",
              "      </script>\n",
              "    </div>\n",
              "  </div>\n",
              "  "
            ]
          },
          "metadata": {},
          "execution_count": 5
        }
      ]
    },
    {
      "cell_type": "code",
      "source": [
        "#describe\n",
        "df.describe()"
      ],
      "metadata": {
        "id": "ESXD0Dc2Q8Bj",
        "colab": {
          "base_uri": "https://localhost:8080/",
          "height": 300
        },
        "outputId": "925b6209-cd98-445d-ac4b-0de141b8732e"
      },
      "execution_count": 6,
      "outputs": [
        {
          "output_type": "execute_result",
          "data": {
            "text/plain": [
              "            pclass     survived          age\n",
              "count  1309.000000  1309.000000  1046.000000\n",
              "mean      2.294882     0.381971    29.881138\n",
              "std       0.837836     0.486055    14.413493\n",
              "min       1.000000     0.000000     0.170000\n",
              "25%       2.000000     0.000000    21.000000\n",
              "50%       3.000000     0.000000    28.000000\n",
              "75%       3.000000     1.000000    39.000000\n",
              "max       3.000000     1.000000    80.000000"
            ],
            "text/html": [
              "\n",
              "  <div id=\"df-70189794-9569-4406-8063-a8ebf974117b\">\n",
              "    <div class=\"colab-df-container\">\n",
              "      <div>\n",
              "<style scoped>\n",
              "    .dataframe tbody tr th:only-of-type {\n",
              "        vertical-align: middle;\n",
              "    }\n",
              "\n",
              "    .dataframe tbody tr th {\n",
              "        vertical-align: top;\n",
              "    }\n",
              "\n",
              "    .dataframe thead th {\n",
              "        text-align: right;\n",
              "    }\n",
              "</style>\n",
              "<table border=\"1\" class=\"dataframe\">\n",
              "  <thead>\n",
              "    <tr style=\"text-align: right;\">\n",
              "      <th></th>\n",
              "      <th>pclass</th>\n",
              "      <th>survived</th>\n",
              "      <th>age</th>\n",
              "    </tr>\n",
              "  </thead>\n",
              "  <tbody>\n",
              "    <tr>\n",
              "      <th>count</th>\n",
              "      <td>1309.000000</td>\n",
              "      <td>1309.000000</td>\n",
              "      <td>1046.000000</td>\n",
              "    </tr>\n",
              "    <tr>\n",
              "      <th>mean</th>\n",
              "      <td>2.294882</td>\n",
              "      <td>0.381971</td>\n",
              "      <td>29.881138</td>\n",
              "    </tr>\n",
              "    <tr>\n",
              "      <th>std</th>\n",
              "      <td>0.837836</td>\n",
              "      <td>0.486055</td>\n",
              "      <td>14.413493</td>\n",
              "    </tr>\n",
              "    <tr>\n",
              "      <th>min</th>\n",
              "      <td>1.000000</td>\n",
              "      <td>0.000000</td>\n",
              "      <td>0.170000</td>\n",
              "    </tr>\n",
              "    <tr>\n",
              "      <th>25%</th>\n",
              "      <td>2.000000</td>\n",
              "      <td>0.000000</td>\n",
              "      <td>21.000000</td>\n",
              "    </tr>\n",
              "    <tr>\n",
              "      <th>50%</th>\n",
              "      <td>3.000000</td>\n",
              "      <td>0.000000</td>\n",
              "      <td>28.000000</td>\n",
              "    </tr>\n",
              "    <tr>\n",
              "      <th>75%</th>\n",
              "      <td>3.000000</td>\n",
              "      <td>1.000000</td>\n",
              "      <td>39.000000</td>\n",
              "    </tr>\n",
              "    <tr>\n",
              "      <th>max</th>\n",
              "      <td>3.000000</td>\n",
              "      <td>1.000000</td>\n",
              "      <td>80.000000</td>\n",
              "    </tr>\n",
              "  </tbody>\n",
              "</table>\n",
              "</div>\n",
              "      <button class=\"colab-df-convert\" onclick=\"convertToInteractive('df-70189794-9569-4406-8063-a8ebf974117b')\"\n",
              "              title=\"Convert this dataframe to an interactive table.\"\n",
              "              style=\"display:none;\">\n",
              "        \n",
              "  <svg xmlns=\"http://www.w3.org/2000/svg\" height=\"24px\"viewBox=\"0 0 24 24\"\n",
              "       width=\"24px\">\n",
              "    <path d=\"M0 0h24v24H0V0z\" fill=\"none\"/>\n",
              "    <path d=\"M18.56 5.44l.94 2.06.94-2.06 2.06-.94-2.06-.94-.94-2.06-.94 2.06-2.06.94zm-11 1L8.5 8.5l.94-2.06 2.06-.94-2.06-.94L8.5 2.5l-.94 2.06-2.06.94zm10 10l.94 2.06.94-2.06 2.06-.94-2.06-.94-.94-2.06-.94 2.06-2.06.94z\"/><path d=\"M17.41 7.96l-1.37-1.37c-.4-.4-.92-.59-1.43-.59-.52 0-1.04.2-1.43.59L10.3 9.45l-7.72 7.72c-.78.78-.78 2.05 0 2.83L4 21.41c.39.39.9.59 1.41.59.51 0 1.02-.2 1.41-.59l7.78-7.78 2.81-2.81c.8-.78.8-2.07 0-2.86zM5.41 20L4 18.59l7.72-7.72 1.47 1.35L5.41 20z\"/>\n",
              "  </svg>\n",
              "      </button>\n",
              "      \n",
              "  <style>\n",
              "    .colab-df-container {\n",
              "      display:flex;\n",
              "      flex-wrap:wrap;\n",
              "      gap: 12px;\n",
              "    }\n",
              "\n",
              "    .colab-df-convert {\n",
              "      background-color: #E8F0FE;\n",
              "      border: none;\n",
              "      border-radius: 50%;\n",
              "      cursor: pointer;\n",
              "      display: none;\n",
              "      fill: #1967D2;\n",
              "      height: 32px;\n",
              "      padding: 0 0 0 0;\n",
              "      width: 32px;\n",
              "    }\n",
              "\n",
              "    .colab-df-convert:hover {\n",
              "      background-color: #E2EBFA;\n",
              "      box-shadow: 0px 1px 2px rgba(60, 64, 67, 0.3), 0px 1px 3px 1px rgba(60, 64, 67, 0.15);\n",
              "      fill: #174EA6;\n",
              "    }\n",
              "\n",
              "    [theme=dark] .colab-df-convert {\n",
              "      background-color: #3B4455;\n",
              "      fill: #D2E3FC;\n",
              "    }\n",
              "\n",
              "    [theme=dark] .colab-df-convert:hover {\n",
              "      background-color: #434B5C;\n",
              "      box-shadow: 0px 1px 3px 1px rgba(0, 0, 0, 0.15);\n",
              "      filter: drop-shadow(0px 1px 2px rgba(0, 0, 0, 0.3));\n",
              "      fill: #FFFFFF;\n",
              "    }\n",
              "  </style>\n",
              "\n",
              "      <script>\n",
              "        const buttonEl =\n",
              "          document.querySelector('#df-70189794-9569-4406-8063-a8ebf974117b button.colab-df-convert');\n",
              "        buttonEl.style.display =\n",
              "          google.colab.kernel.accessAllowed ? 'block' : 'none';\n",
              "\n",
              "        async function convertToInteractive(key) {\n",
              "          const element = document.querySelector('#df-70189794-9569-4406-8063-a8ebf974117b');\n",
              "          const dataTable =\n",
              "            await google.colab.kernel.invokeFunction('convertToInteractive',\n",
              "                                                     [key], {});\n",
              "          if (!dataTable) return;\n",
              "\n",
              "          const docLinkHtml = 'Like what you see? Visit the ' +\n",
              "            '<a target=\"_blank\" href=https://colab.research.google.com/notebooks/data_table.ipynb>data table notebook</a>'\n",
              "            + ' to learn more about interactive tables.';\n",
              "          element.innerHTML = '';\n",
              "          dataTable['output_type'] = 'display_data';\n",
              "          await google.colab.output.renderOutput(dataTable, element);\n",
              "          const docLink = document.createElement('div');\n",
              "          docLink.innerHTML = docLinkHtml;\n",
              "          element.appendChild(docLink);\n",
              "        }\n",
              "      </script>\n",
              "    </div>\n",
              "  </div>\n",
              "  "
            ]
          },
          "metadata": {},
          "execution_count": 6
        }
      ]
    },
    {
      "cell_type": "code",
      "source": [
        "#info\n",
        "df.info()\n"
      ],
      "metadata": {
        "id": "NVxzNYqoYnKT",
        "colab": {
          "base_uri": "https://localhost:8080/"
        },
        "outputId": "7344bbfa-7a6b-4f27-f3a6-b85886b4f6b3"
      },
      "execution_count": 7,
      "outputs": [
        {
          "output_type": "stream",
          "name": "stdout",
          "text": [
            "<class 'pandas.core.frame.DataFrame'>\n",
            "RangeIndex: 1309 entries, 0 to 1308\n",
            "Data columns (total 4 columns):\n",
            " #   Column    Non-Null Count  Dtype  \n",
            "---  ------    --------------  -----  \n",
            " 0   pclass    1309 non-null   int64  \n",
            " 1   survived  1309 non-null   int64  \n",
            " 2   sex       1309 non-null   object \n",
            " 3   age       1046 non-null   float64\n",
            "dtypes: float64(1), int64(2), object(1)\n",
            "memory usage: 41.0+ KB\n"
          ]
        }
      ]
    },
    {
      "cell_type": "code",
      "source": [
        "#Converter o atrubuto survived para int\n",
        "df['survived'] = df['survived'].astype(int)"
      ],
      "metadata": {
        "id": "W-thhIhajy_E"
      },
      "execution_count": 8,
      "outputs": []
    },
    {
      "cell_type": "code",
      "source": [
        "#valores únicos do atributo \"sex\"\n",
        "df['sex'].unique()"
      ],
      "metadata": {
        "id": "pWSYzZvLk5uP",
        "colab": {
          "base_uri": "https://localhost:8080/"
        },
        "outputId": "ebf6d534-c342-49b2-c484-1178fedf721e"
      },
      "execution_count": 9,
      "outputs": [
        {
          "output_type": "execute_result",
          "data": {
            "text/plain": [
              "array(['female', 'male'], dtype=object)"
            ]
          },
          "metadata": {},
          "execution_count": 9
        }
      ]
    },
    {
      "cell_type": "code",
      "source": [
        "#transformar o atributo 'sex' para 'category'\n",
        "df['sex'] = df['sex'].astype('category')"
      ],
      "metadata": {
        "id": "cAGOrGxZlH2j"
      },
      "execution_count": 10,
      "outputs": []
    },
    {
      "cell_type": "code",
      "source": [
        "#info\n",
        "df.info()"
      ],
      "metadata": {
        "id": "H26CzxkXlpr1",
        "colab": {
          "base_uri": "https://localhost:8080/"
        },
        "outputId": "0ef35921-7e79-4192-8035-1ad7b7002457"
      },
      "execution_count": 11,
      "outputs": [
        {
          "output_type": "stream",
          "name": "stdout",
          "text": [
            "<class 'pandas.core.frame.DataFrame'>\n",
            "RangeIndex: 1309 entries, 0 to 1308\n",
            "Data columns (total 4 columns):\n",
            " #   Column    Non-Null Count  Dtype   \n",
            "---  ------    --------------  -----   \n",
            " 0   pclass    1309 non-null   int64   \n",
            " 1   survived  1309 non-null   int64   \n",
            " 2   sex       1309 non-null   category\n",
            " 3   age       1046 non-null   float64 \n",
            "dtypes: category(1), float64(1), int64(2)\n",
            "memory usage: 32.2 KB\n"
          ]
        }
      ]
    },
    {
      "cell_type": "code",
      "source": [
        "#Verificar número de campos vazios\n",
        "df.isna().sum()"
      ],
      "metadata": {
        "id": "N4wF2hzDSEp0",
        "colab": {
          "base_uri": "https://localhost:8080/"
        },
        "outputId": "a00aada0-1a33-4f93-effc-6913424cc319"
      },
      "execution_count": 12,
      "outputs": [
        {
          "output_type": "execute_result",
          "data": {
            "text/plain": [
              "pclass        0\n",
              "survived      0\n",
              "sex           0\n",
              "age         263\n",
              "dtype: int64"
            ]
          },
          "metadata": {},
          "execution_count": 12
        }
      ]
    },
    {
      "cell_type": "code",
      "source": [
        "#Tripulação total\n",
        "df.shape[0]\n"
      ],
      "metadata": {
        "id": "tjC48y9oN9_1",
        "colab": {
          "base_uri": "https://localhost:8080/"
        },
        "outputId": "080e446c-9368-4cc2-b2f6-6baf89684b4c"
      },
      "execution_count": 14,
      "outputs": [
        {
          "output_type": "execute_result",
          "data": {
            "text/plain": [
              "1309"
            ]
          },
          "metadata": {},
          "execution_count": 14
        }
      ]
    },
    {
      "cell_type": "code",
      "source": [
        "#preencher os campos de idade faltantes com a média da idade\n",
        "df['age'] = df['age'].fillna(df['age'].mean())\n"
      ],
      "metadata": {
        "id": "zhfcF_uIVHOT"
      },
      "execution_count": 15,
      "outputs": []
    },
    {
      "cell_type": "code",
      "source": [
        "#isna\n",
        "df.isna().sum()"
      ],
      "metadata": {
        "id": "bfE0VsPHVVK6",
        "colab": {
          "base_uri": "https://localhost:8080/"
        },
        "outputId": "72606647-b233-4174-b218-24beb6fa6a35"
      },
      "execution_count": 16,
      "outputs": [
        {
          "output_type": "execute_result",
          "data": {
            "text/plain": [
              "pclass      0\n",
              "survived    0\n",
              "sex         0\n",
              "age         0\n",
              "dtype: int64"
            ]
          },
          "metadata": {},
          "execution_count": 16
        }
      ]
    },
    {
      "cell_type": "code",
      "source": [
        "#Número de Homens e Mulheres\n",
        "df['sex'].value_counts()\n"
      ],
      "metadata": {
        "id": "fzBtJKkSkGOB",
        "colab": {
          "base_uri": "https://localhost:8080/"
        },
        "outputId": "623523f6-c267-46d1-ef26-dd535fbaf3aa"
      },
      "execution_count": 17,
      "outputs": [
        {
          "output_type": "execute_result",
          "data": {
            "text/plain": [
              "male      843\n",
              "female    466\n",
              "Name: sex, dtype: int64"
            ]
          },
          "metadata": {},
          "execution_count": 17
        }
      ]
    },
    {
      "cell_type": "code",
      "source": [
        "#plotar o histograma de idade (faixa etária)\n",
        "sns.histplot(data=df['age'], bins=[0,10,20,30,40,50,60,70,80], kde=True)\n",
        "plt.title(\"Histograma de idade\")\n",
        "plt.show()\n"
      ],
      "metadata": {
        "id": "jOw-dOdZPVNx",
        "colab": {
          "base_uri": "https://localhost:8080/",
          "height": 295
        },
        "outputId": "bea4a801-9eed-46ab-ba08-b83b8ac9a96c"
      },
      "execution_count": 21,
      "outputs": [
        {
          "output_type": "display_data",
          "data": {
            "text/plain": [
              "<Figure size 432x288 with 1 Axes>"
            ],
            "image/png": "[encoded data removed]"
          },
          "metadata": {
            "needs_background": "light"
          }
        }
      ]
    },
    {
      "cell_type": "code",
      "source": [
        "#plotar o histograma de idade dos sobreviventes (faixa etária)\n",
        "idade_sobreviventes = df.loc[df['survived']==1]\n",
        "sns.histplot(data=idade_sobreviventes['age'], kde=True)\n",
        "plt.show()\n"
      ],
      "metadata": {
        "id": "l-duacVT5B89",
        "colab": {
          "base_uri": "https://localhost:8080/",
          "height": 279
        },
        "outputId": "726d6247-41e9-4966-eb25-e626180f469e"
      },
      "execution_count": 23,
      "outputs": [
        {
          "output_type": "display_data",
          "data": {
            "text/plain": [
              "<Figure size 432x288 with 1 Axes>"
            ],
            "image/png": "[encoded data removed]"
          },
          "metadata": {
            "needs_background": "light"
          }
        }
      ]
    },
    {
      "cell_type": "code",
      "source": [
        "#plotar o histograma de idade dos não sobreviventes (faixa etária)\n",
        "idade_sobreviventes = df.loc[df['survived']==0]\n",
        "sns.histplot(data=idade_sobreviventes['age'], kde=True)\n",
        "plt.show()"
      ],
      "metadata": {
        "id": "emM8rzTM3xbj",
        "colab": {
          "base_uri": "https://localhost:8080/",
          "height": 279
        },
        "outputId": "2212f4ba-e7e1-4e68-ef99-0ac23db434f5"
      },
      "execution_count": 24,
      "outputs": [
        {
          "output_type": "display_data",
          "data": {
            "text/plain": [
              "<Figure size 432x288 with 1 Axes>"
            ],
            "image/png": "[encoded data removed]"
          },
          "metadata": {
            "needs_background": "light"
          }
        }
      ]
    },
    {
      "cell_type": "code",
      "source": [
        "#Grafico de pizza dos sobreviventes\n",
        "plt.pie(df['survived'].value_counts(), autopct='%1.1f%%', startangle=90, explode=[0,0.05])\n",
        "plt.show()\n"
      ],
      "metadata": {
        "id": "tQMUKGxI0Mv_",
        "colab": {
          "base_uri": "https://localhost:8080/",
          "height": 248
        },
        "outputId": "1058390a-b248-4c5b-ed8b-320620a8ad08"
      },
      "execution_count": 31,
      "outputs": [
        {
          "output_type": "display_data",
          "data": {
            "text/plain": [
              "<Figure size 432x288 with 1 Axes>"
            ],
            "image/png": "[encoded data removed]"
          },
          "metadata": {}
        }
      ]
    },
    {
      "cell_type": "code",
      "source": [
        "#plotar os sobreviventes e não sobreviventes por sexo\n",
        "df['sex'].hist(by=df['survived'])\n",
        "plt.show()\n"
      ],
      "metadata": {
        "id": "9qeiL-2YpnBP",
        "colab": {
          "base_uri": "https://localhost:8080/",
          "height": 304
        },
        "outputId": "4714097c-db08-46c8-f53e-4fdd534d505c"
      },
      "execution_count": 34,
      "outputs": [
        {
          "output_type": "display_data",
          "data": {
            "text/plain": [
              "<Figure size 432x288 with 2 Axes>"
            ],
            "image/png": "[encoded data removed]"
          },
          "metadata": {
            "needs_background": "light"
          }
        }
      ]
    },
    {
      "cell_type": "code",
      "source": [
        "df.hist()\n",
        "plt.show()"
      ],
      "metadata": {
        "colab": {
          "base_uri": "https://localhost:8080/",
          "height": 281
        },
        "id": "HcxHzKGtVadd",
        "outputId": "d7ab2301-9370-4d42-ff64-eb1c97411c6b"
      },
      "execution_count": 36,
      "outputs": [
        {
          "output_type": "display_data",
          "data": {
            "text/plain": [
              "<Figure size 432x288 with 4 Axes>"
            ],
            "image/png": "[encoded data removed]"
          },
          "metadata": {
            "needs_background": "light"
          }
        }
      ]
    },
    {
      "cell_type": "code",
      "source": [
        "#plotar os sobreviventes e não sobreviventes por classe\n",
        "df['pclass'].hist(by=df['survived'])\n",
        "plt.show()"
      ],
      "metadata": {
        "id": "Qlhb8vH4pEHL",
        "colab": {
          "base_uri": "https://localhost:8080/",
          "height": 286
        },
        "outputId": "70908a0b-788e-4f67-ac85-5eb7463ea3ae"
      },
      "execution_count": 37,
      "outputs": [
        {
          "output_type": "display_data",
          "data": {
            "text/plain": [
              "<Figure size 432x288 with 2 Axes>"
            ],
            "image/png": "[encoded data removed]"
          },
          "metadata": {
            "needs_background": "light"
          }
        }
      ]
    },
    {
      "cell_type": "code",
      "source": [
        "# Cria as variáveis X (atributos de entrada) Y (target)\n",
        "X = df.loc[:,['pclass','age','sex']] #atributos de entrada\n",
        "Y = df['survived'] # atributo alvo\n",
        "X.head()\n"
      ],
      "metadata": {
        "id": "n1CPXfVE73ZM",
        "colab": {
          "base_uri": "https://localhost:8080/",
          "height": 206
        },
        "outputId": "0f6cf9f5-23b7-4f33-90d6-ddbd8b15e929"
      },
      "execution_count": 39,
      "outputs": [
        {
          "output_type": "execute_result",
          "data": {
            "text/plain": [
              "   pclass    age     sex\n",
              "0       1  29.00  female\n",
              "1       1   0.92    male\n",
              "2       1   2.00  female\n",
              "3       1  30.00    male\n",
              "4       1  25.00  female"
            ],
            "text/html": [
              "\n",
              "  <div id=\"df-e7b34194-2eb3-4dc4-bd47-23b0928065ab\">\n",
              "    <div class=\"colab-df-container\">\n",
              "      <div>\n",
              "<style scoped>\n",
              "    .dataframe tbody tr th:only-of-type {\n",
              "        vertical-align: middle;\n",
              "    }\n",
              "\n",
              "    .dataframe tbody tr th {\n",
              "        vertical-align: top;\n",
              "    }\n",
              "\n",
              "    .dataframe thead th {\n",
              "        text-align: right;\n",
              "    }\n",
              "</style>\n",
              "<table border=\"1\" class=\"dataframe\">\n",
              "  <thead>\n",
              "    <tr style=\"text-align: right;\">\n",
              "      <th></th>\n",
              "      <th>pclass</th>\n",
              "      <th>age</th>\n",
              "      <th>sex</th>\n",
              "    </tr>\n",
              "  </thead>\n",
              "  <tbody>\n",
              "    <tr>\n",
              "      <th>0</th>\n",
              "      <td>1</td>\n",
              "      <td>29.00</td>\n",
              "      <td>female</td>\n",
              "    </tr>\n",
              "    <tr>\n",
              "      <th>1</th>\n",
              "      <td>1</td>\n",
              "      <td>0.92</td>\n",
              "      <td>male</td>\n",
              "    </tr>\n",
              "    <tr>\n",
              "      <th>2</th>\n",
              "      <td>1</td>\n",
              "      <td>2.00</td>\n",
              "      <td>female</td>\n",
              "    </tr>\n",
              "    <tr>\n",
              "      <th>3</th>\n",
              "      <td>1</td>\n",
              "      <td>30.00</td>\n",
              "      <td>male</td>\n",
              "    </tr>\n",
              "    <tr>\n",
              "      <th>4</th>\n",
              "      <td>1</td>\n",
              "      <td>25.00</td>\n",
              "      <td>female</td>\n",
              "    </tr>\n",
              "  </tbody>\n",
              "</table>\n",
              "</div>\n",
              "      <button class=\"colab-df-convert\" onclick=\"convertToInteractive('df-e7b34194-2eb3-4dc4-bd47-23b0928065ab')\"\n",
              "              title=\"Convert this dataframe to an interactive table.\"\n",
              "              style=\"display:none;\">\n",
              "        \n",
              "  <svg xmlns=\"http://www.w3.org/2000/svg\" height=\"24px\"viewBox=\"0 0 24 24\"\n",
              "       width=\"24px\">\n",
              "    <path d=\"M0 0h24v24H0V0z\" fill=\"none\"/>\n",
              "    <path d=\"M18.56 5.44l.94 2.06.94-2.06 2.06-.94-2.06-.94-.94-2.06-.94 2.06-2.06.94zm-11 1L8.5 8.5l.94-2.06 2.06-.94-2.06-.94L8.5 2.5l-.94 2.06-2.06.94zm10 10l.94 2.06.94-2.06 2.06-.94-2.06-.94-.94-2.06-.94 2.06-2.06.94z\"/><path d=\"M17.41 7.96l-1.37-1.37c-.4-.4-.92-.59-1.43-.59-.52 0-1.04.2-1.43.59L10.3 9.45l-7.72 7.72c-.78.78-.78 2.05 0 2.83L4 21.41c.39.39.9.59 1.41.59.51 0 1.02-.2 1.41-.59l7.78-7.78 2.81-2.81c.8-.78.8-2.07 0-2.86zM5.41 20L4 18.59l7.72-7.72 1.47 1.35L5.41 20z\"/>\n",
              "  </svg>\n",
              "      </button>\n",
              "      \n",
              "  <style>\n",
              "    .colab-df-container {\n",
              "      display:flex;\n",
              "      flex-wrap:wrap;\n",
              "      gap: 12px;\n",
              "    }\n",
              "\n",
              "    .colab-df-convert {\n",
              "      background-color: #E8F0FE;\n",
              "      border: none;\n",
              "      border-radius: 50%;\n",
              "      cursor: pointer;\n",
              "      display: none;\n",
              "      fill: #1967D2;\n",
              "      height: 32px;\n",
              "      padding: 0 0 0 0;\n",
              "      width: 32px;\n",
              "    }\n",
              "\n",
              "    .colab-df-convert:hover {\n",
              "      background-color: #E2EBFA;\n",
              "      box-shadow: 0px 1px 2px rgba(60, 64, 67, 0.3), 0px 1px 3px 1px rgba(60, 64, 67, 0.15);\n",
              "      fill: #174EA6;\n",
              "    }\n",
              "\n",
              "    [theme=dark] .colab-df-convert {\n",
              "      background-color: #3B4455;\n",
              "      fill: #D2E3FC;\n",
              "    }\n",
              "\n",
              "    [theme=dark] .colab-df-convert:hover {\n",
              "      background-color: #434B5C;\n",
              "      box-shadow: 0px 1px 3px 1px rgba(0, 0, 0, 0.15);\n",
              "      filter: drop-shadow(0px 1px 2px rgba(0, 0, 0, 0.3));\n",
              "      fill: #FFFFFF;\n",
              "    }\n",
              "  </style>\n",
              "\n",
              "      <script>\n",
              "        const buttonEl =\n",
              "          document.querySelector('#df-e7b34194-2eb3-4dc4-bd47-23b0928065ab button.colab-df-convert');\n",
              "        buttonEl.style.display =\n",
              "          google.colab.kernel.accessAllowed ? 'block' : 'none';\n",
              "\n",
              "        async function convertToInteractive(key) {\n",
              "          const element = document.querySelector('#df-e7b34194-2eb3-4dc4-bd47-23b0928065ab');\n",
              "          const dataTable =\n",
              "            await google.colab.kernel.invokeFunction('convertToInteractive',\n",
              "                                                     [key], {});\n",
              "          if (!dataTable) return;\n",
              "\n",
              "          const docLinkHtml = 'Like what you see? Visit the ' +\n",
              "            '<a target=\"_blank\" href=https://colab.research.google.com/notebooks/data_table.ipynb>data table notebook</a>'\n",
              "            + ' to learn more about interactive tables.';\n",
              "          element.innerHTML = '';\n",
              "          dataTable['output_type'] = 'display_data';\n",
              "          await google.colab.output.renderOutput(dataTable, element);\n",
              "          const docLink = document.createElement('div');\n",
              "          docLink.innerHTML = docLinkHtml;\n",
              "          element.appendChild(docLink);\n",
              "        }\n",
              "      </script>\n",
              "    </div>\n",
              "  </div>\n",
              "  "
            ]
          },
          "metadata": {},
          "execution_count": 39
        }
      ]
    },
    {
      "cell_type": "code",
      "source": [
        "# one hot encode com pd dummies\n",
        "X = pd.get_dummies(X, prefix=['sex'])\n",
        "X.head()\n"
      ],
      "metadata": {
        "id": "aK8ZAZjD_xC1",
        "colab": {
          "base_uri": "https://localhost:8080/",
          "height": 206
        },
        "outputId": "185900f6-36b6-4209-a2e5-09fd1eb7b447"
      },
      "execution_count": 40,
      "outputs": [
        {
          "output_type": "execute_result",
          "data": {
            "text/plain": [
              "   pclass    age  sex_female  sex_male\n",
              "0       1  29.00           1         0\n",
              "1       1   0.92           0         1\n",
              "2       1   2.00           1         0\n",
              "3       1  30.00           0         1\n",
              "4       1  25.00           1         0"
            ],
            "text/html": [
              "\n",
              "  <div id=\"df-777e2e10-2d89-4d8c-b023-87ce90131fa4\">\n",
              "    <div class=\"colab-df-container\">\n",
              "      <div>\n",
              "<style scoped>\n",
              "    .dataframe tbody tr th:only-of-type {\n",
              "        vertical-align: middle;\n",
              "    }\n",
              "\n",
              "    .dataframe tbody tr th {\n",
              "        vertical-align: top;\n",
              "    }\n",
              "\n",
              "    .dataframe thead th {\n",
              "        text-align: right;\n",
              "    }\n",
              "</style>\n",
              "<table border=\"1\" class=\"dataframe\">\n",
              "  <thead>\n",
              "    <tr style=\"text-align: right;\">\n",
              "      <th></th>\n",
              "      <th>pclass</th>\n",
              "      <th>age</th>\n",
              "      <th>sex_female</th>\n",
              "      <th>sex_male</th>\n",
              "    </tr>\n",
              "  </thead>\n",
              "  <tbody>\n",
              "    <tr>\n",
              "      <th>0</th>\n",
              "      <td>1</td>\n",
              "      <td>29.00</td>\n",
              "      <td>1</td>\n",
              "      <td>0</td>\n",
              "    </tr>\n",
              "    <tr>\n",
              "      <th>1</th>\n",
              "      <td>1</td>\n",
              "      <td>0.92</td>\n",
              "      <td>0</td>\n",
              "      <td>1</td>\n",
              "    </tr>\n",
              "    <tr>\n",
              "      <th>2</th>\n",
              "      <td>1</td>\n",
              "      <td>2.00</td>\n",
              "      <td>1</td>\n",
              "      <td>0</td>\n",
              "    </tr>\n",
              "    <tr>\n",
              "      <th>3</th>\n",
              "      <td>1</td>\n",
              "      <td>30.00</td>\n",
              "      <td>0</td>\n",
              "      <td>1</td>\n",
              "    </tr>\n",
              "    <tr>\n",
              "      <th>4</th>\n",
              "      <td>1</td>\n",
              "      <td>25.00</td>\n",
              "      <td>1</td>\n",
              "      <td>0</td>\n",
              "    </tr>\n",
              "  </tbody>\n",
              "</table>\n",
              "</div>\n",
              "      <button class=\"colab-df-convert\" onclick=\"convertToInteractive('df-777e2e10-2d89-4d8c-b023-87ce90131fa4')\"\n",
              "              title=\"Convert this dataframe to an interactive table.\"\n",
              "              style=\"display:none;\">\n",
              "        \n",
              "  <svg xmlns=\"http://www.w3.org/2000/svg\" height=\"24px\"viewBox=\"0 0 24 24\"\n",
              "       width=\"24px\">\n",
              "    <path d=\"M0 0h24v24H0V0z\" fill=\"none\"/>\n",
              "    <path d=\"M18.56 5.44l.94 2.06.94-2.06 2.06-.94-2.06-.94-.94-2.06-.94 2.06-2.06.94zm-11 1L8.5 8.5l.94-2.06 2.06-.94-2.06-.94L8.5 2.5l-.94 2.06-2.06.94zm10 10l.94 2.06.94-2.06 2.06-.94-2.06-.94-.94-2.06-.94 2.06-2.06.94z\"/><path d=\"M17.41 7.96l-1.37-1.37c-.4-.4-.92-.59-1.43-.59-.52 0-1.04.2-1.43.59L10.3 9.45l-7.72 7.72c-.78.78-.78 2.05 0 2.83L4 21.41c.39.39.9.59 1.41.59.51 0 1.02-.2 1.41-.59l7.78-7.78 2.81-2.81c.8-.78.8-2.07 0-2.86zM5.41 20L4 18.59l7.72-7.72 1.47 1.35L5.41 20z\"/>\n",
              "  </svg>\n",
              "      </button>\n",
              "      \n",
              "  <style>\n",
              "    .colab-df-container {\n",
              "      display:flex;\n",
              "      flex-wrap:wrap;\n",
              "      gap: 12px;\n",
              "    }\n",
              "\n",
              "    .colab-df-convert {\n",
              "      background-color: #E8F0FE;\n",
              "      border: none;\n",
              "      border-radius: 50%;\n",
              "      cursor: pointer;\n",
              "      display: none;\n",
              "      fill: #1967D2;\n",
              "      height: 32px;\n",
              "      padding: 0 0 0 0;\n",
              "      width: 32px;\n",
              "    }\n",
              "\n",
              "    .colab-df-convert:hover {\n",
              "      background-color: #E2EBFA;\n",
              "      box-shadow: 0px 1px 2px rgba(60, 64, 67, 0.3), 0px 1px 3px 1px rgba(60, 64, 67, 0.15);\n",
              "      fill: #174EA6;\n",
              "    }\n",
              "\n",
              "    [theme=dark] .colab-df-convert {\n",
              "      background-color: #3B4455;\n",
              "      fill: #D2E3FC;\n",
              "    }\n",
              "\n",
              "    [theme=dark] .colab-df-convert:hover {\n",
              "      background-color: #434B5C;\n",
              "      box-shadow: 0px 1px 3px 1px rgba(0, 0, 0, 0.15);\n",
              "      filter: drop-shadow(0px 1px 2px rgba(0, 0, 0, 0.3));\n",
              "      fill: #FFFFFF;\n",
              "    }\n",
              "  </style>\n",
              "\n",
              "      <script>\n",
              "        const buttonEl =\n",
              "          document.querySelector('#df-777e2e10-2d89-4d8c-b023-87ce90131fa4 button.colab-df-convert');\n",
              "        buttonEl.style.display =\n",
              "          google.colab.kernel.accessAllowed ? 'block' : 'none';\n",
              "\n",
              "        async function convertToInteractive(key) {\n",
              "          const element = document.querySelector('#df-777e2e10-2d89-4d8c-b023-87ce90131fa4');\n",
              "          const dataTable =\n",
              "            await google.colab.kernel.invokeFunction('convertToInteractive',\n",
              "                                                     [key], {});\n",
              "          if (!dataTable) return;\n",
              "\n",
              "          const docLinkHtml = 'Like what you see? Visit the ' +\n",
              "            '<a target=\"_blank\" href=https://colab.research.google.com/notebooks/data_table.ipynb>data table notebook</a>'\n",
              "            + ' to learn more about interactive tables.';\n",
              "          element.innerHTML = '';\n",
              "          dataTable['output_type'] = 'display_data';\n",
              "          await google.colab.output.renderOutput(dataTable, element);\n",
              "          const docLink = document.createElement('div');\n",
              "          docLink.innerHTML = docLinkHtml;\n",
              "          element.appendChild(docLink);\n",
              "        }\n",
              "      </script>\n",
              "    </div>\n",
              "  </div>\n",
              "  "
            ]
          },
          "metadata": {},
          "execution_count": 40
        }
      ]
    },
    {
      "cell_type": "code",
      "source": [
        "# Head"
      ],
      "metadata": {
        "id": "yqfTirdd85TB"
      },
      "execution_count": null,
      "outputs": []
    },
    {
      "cell_type": "code",
      "source": [
        "# transformar X e Y em np array\n",
        "X = np.array(X)\n",
        "Y = np.array(Y)\n",
        "X"
      ],
      "metadata": {
        "id": "jHNMPiEMY2qy",
        "colab": {
          "base_uri": "https://localhost:8080/"
        },
        "outputId": "2e710442-cd0d-46d3-f973-5b911fd833e2"
      },
      "execution_count": 42,
      "outputs": [
        {
          "output_type": "execute_result",
          "data": {
            "text/plain": [
              "array([[ 1.  , 29.  ,  1.  ,  0.  ],\n",
              "       [ 1.  ,  0.92,  0.  ,  1.  ],\n",
              "       [ 1.  ,  2.  ,  1.  ,  0.  ],\n",
              "       ...,\n",
              "       [ 3.  , 26.5 ,  0.  ,  1.  ],\n",
              "       [ 3.  , 27.  ,  0.  ,  1.  ],\n",
              "       [ 3.  , 29.  ,  0.  ,  1.  ]])"
            ]
          },
          "metadata": {},
          "execution_count": 42
        }
      ]
    },
    {
      "cell_type": "code",
      "source": [
        "# separar os dados em trainamento e test\n",
        "from sklearn.model_selection import train_test_split\n",
        "X_train, X_test, Y_train, Y_test = train_test_split(X,Y, test_size=0.2)"
      ],
      "metadata": {
        "id": "87nq7Jb0myw5"
      },
      "execution_count": 58,
      "outputs": []
    },
    {
      "cell_type": "code",
      "source": [
        "#importar a classe Regressão Logística, instaciar o objeto, ajustar o modelo aos dados de treinamento\n",
        "from sklearn.linear_model import LogisticRegression\n",
        "modelo = LogisticRegression()\n",
        "modelo.fit(X_train, Y_train)"
      ],
      "metadata": {
        "id": "6JZkn1xXCMbD",
        "colab": {
          "base_uri": "https://localhost:8080/"
        },
        "outputId": "45bc423d-8dd7-434f-e62b-27dc4f573b7e"
      },
      "execution_count": 59,
      "outputs": [
        {
          "output_type": "execute_result",
          "data": {
            "text/plain": [
              "LogisticRegression()"
            ]
          },
          "metadata": {},
          "execution_count": 59
        }
      ]
    },
    {
      "cell_type": "code",
      "source": [
        "#predict\n",
        "Y_pred = modelo.predict(X_test)\n",
        "Y_pred"
      ],
      "metadata": {
        "id": "P1RQMksiJhvI",
        "colab": {
          "base_uri": "https://localhost:8080/"
        },
        "outputId": "addbeb29-05dd-4413-db71-ca3c8652a80c"
      },
      "execution_count": 60,
      "outputs": [
        {
          "output_type": "execute_result",
          "data": {
            "text/plain": [
              "array([1, 0, 1, 1, 1, 1, 0, 0, 0, 0, 1, 0, 0, 0, 1, 0, 0, 0, 0, 1, 0, 0,\n",
              "       0, 0, 0, 1, 1, 0, 0, 1, 0, 0, 0, 0, 0, 0, 1, 0, 0, 0, 1, 0, 0, 0,\n",
              "       0, 0, 1, 1, 1, 1, 0, 1, 0, 0, 1, 1, 1, 0, 0, 1, 0, 0, 0, 1, 0, 1,\n",
              "       1, 1, 1, 0, 1, 1, 0, 1, 0, 0, 0, 0, 0, 0, 1, 1, 1, 0, 1, 1, 0, 0,\n",
              "       1, 0, 0, 0, 1, 1, 0, 0, 0, 1, 0, 0, 0, 1, 0, 1, 0, 0, 0, 1, 0, 1,\n",
              "       0, 0, 1, 0, 1, 1, 1, 0, 0, 0, 1, 0, 0, 0, 1, 0, 0, 1, 0, 0, 1, 0,\n",
              "       0, 0, 0, 1, 0, 0, 0, 1, 0, 0, 0, 1, 1, 0, 0, 0, 1, 0, 1, 1, 0, 0,\n",
              "       0, 1, 0, 1, 0, 1, 0, 0, 0, 1, 0, 1, 0, 0, 0, 0, 1, 1, 0, 0, 0, 1,\n",
              "       0, 1, 1, 1, 1, 1, 0, 1, 1, 0, 0, 0, 0, 0, 0, 0, 0, 1, 0, 1, 1, 0,\n",
              "       0, 0, 0, 0, 0, 0, 1, 0, 0, 0, 1, 1, 1, 0, 0, 1, 0, 1, 0, 0, 0, 1,\n",
              "       1, 0, 0, 0, 0, 0, 0, 1, 0, 0, 0, 0, 0, 0, 1, 0, 0, 0, 0, 1, 0, 0,\n",
              "       0, 1, 1, 1, 0, 1, 1, 1, 0, 0, 1, 0, 1, 1, 1, 0, 0, 0, 1, 0])"
            ]
          },
          "metadata": {},
          "execution_count": 60
        }
      ]
    },
    {
      "cell_type": "code",
      "source": [
        "#calculo do Score\n",
        "from sklearn.metrics import accuracy_score\n",
        "score = accuracy_score(Y_test,Y_pred)\n",
        "score"
      ],
      "metadata": {
        "id": "E4CWcDMfD0ma",
        "colab": {
          "base_uri": "https://localhost:8080/"
        },
        "outputId": "a51be864-dd80-4a86-dfc8-c4812a259d20"
      },
      "execution_count": 61,
      "outputs": [
        {
          "output_type": "execute_result",
          "data": {
            "text/plain": [
              "0.7862595419847328"
            ]
          },
          "metadata": {},
          "execution_count": 61
        }
      ]
    },
    {
      "cell_type": "code",
      "source": [
        "#Matrix de confusão\n",
        "from sklearn.metrics import confusion_matrix\n",
        "matriz_confusao = confusion_matrix(Y_test,Y_pred)\n",
        "matriz_confusao\n"
      ],
      "metadata": {
        "id": "5A0v6_InFobJ",
        "colab": {
          "base_uri": "https://localhost:8080/"
        },
        "outputId": "9d387625-30cf-48f2-a9cd-22c5504785e0"
      },
      "execution_count": 56,
      "outputs": [
        {
          "output_type": "execute_result",
          "data": {
            "text/plain": [
              "array([[136,  30],\n",
              "       [ 29,  67]])"
            ]
          },
          "metadata": {},
          "execution_count": 56
        }
      ]
    },
    {
      "cell_type": "code",
      "source": [
        "#plotar a confusion matriz\n",
        "from sklearn.metrics import ConfusionMatrixDisplay\n",
        "mc = ConfusionMatrixDisplay(confusion_matrix = matriz_confusao, display_labels=modelo.classes_)\n",
        "mc.plot()\n",
        "plt.show()\n"
      ],
      "metadata": {
        "id": "A3c3Z6xVF5RV",
        "colab": {
          "base_uri": "https://localhost:8080/",
          "height": 279
        },
        "outputId": "08308887-8085-4858-975c-b6f223a4dfc7"
      },
      "execution_count": 57,
      "outputs": [
        {
          "output_type": "display_data",
          "data": {
            "text/plain": [
              "<Figure size 432x288 with 2 Axes>"
            ],
            "image/png": "[encoded data removed]"
          },
          "metadata": {
            "needs_background": "light"
          }
        }
      ]
    },
    {
      "cell_type": "code",
      "source": [
        "# a soma de todos os valores é igual ao total de amostras avaliadas 136+27+37+36 = 262\n",
        "# o modelo acerto 7% pois acerto 138 + 67 / 262  \n",
        "# o modelo previu 136 mortes e 62 não mortes corretamente\n",
        "# o modelo previu 27 não mortes e 37 mortes incorretamente"
      ],
      "metadata": {
        "id": "Sxb4NQwHG1Mq"
      },
      "execution_count": null,
      "outputs": []
    },
    {
      "cell_type": "markdown",
      "source": [
        "![image.png](data:image/png;base64,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)"
      ],
      "metadata": {
        "id": "-a9RhZiILMPe"
      }
    },
    {
      "cell_type": "code",
      "source": [
        "#prevendo se vc sobreviveria\n",
        "#voce = [pclass, age, sex_female, sex_male]\n",
        "voce = [[1,20,1,0]]\n",
        "v_pred = modelo.predict(voce)\n",
        "v_pred"
      ],
      "metadata": {
        "id": "NwbuqwF1LNTv",
        "colab": {
          "base_uri": "https://localhost:8080/"
        },
        "outputId": "cf770289-e6fb-4877-e97e-be4fbd7bafff"
      },
      "execution_count": 79,
      "outputs": [
        {
          "output_type": "execute_result",
          "data": {
            "text/plain": [
              "array([1])"
            ]
          },
          "metadata": {},
          "execution_count": 79
        }
      ]
    },
    {
      "cell_type": "code",
      "source": [
        "#calculo da probabilidade de morte ou sobrevivencia\n",
        "\n",
        "prob = modelo.predict_proba(voce)\n",
        "prob"
      ],
      "metadata": {
        "id": "fYKM4dmrXXpM",
        "colab": {
          "base_uri": "https://localhost:8080/"
        },
        "outputId": "036998af-b8aa-4c4a-a7b6-9b35af3ce4f1"
      },
      "execution_count": 80,
      "outputs": [
        {
          "output_type": "execute_result",
          "data": {
            "text/plain": [
              "array([[0.07671428, 0.92328572]])"
            ]
          },
          "metadata": {},
          "execution_count": 80
        }
      ]
    },
    {
      "cell_type": "code",
      "source": [],
      "metadata": {
        "id": "w15yMhY2gh2h"
      },
      "execution_count": null,
      "outputs": []
    }
  ]
}